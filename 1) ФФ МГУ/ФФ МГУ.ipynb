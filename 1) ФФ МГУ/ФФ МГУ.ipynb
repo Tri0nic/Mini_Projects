{
 "cells": [
  {
   "cell_type": "code",
   "execution_count": 1,
   "id": "8db1a081",
   "metadata": {},
   "outputs": [],
   "source": [
    "import pandas as pd\n",
    "import numpy as np\n",
    "import matplotlib.pyplot as plt\n",
    "from sklearn.model_selection import train_test_split\n",
    "\n",
    "from sklearn.linear_model import LinearRegression\n",
    "from sklearn.linear_model import Lasso\n",
    "from sklearn.linear_model import Ridge\n",
    "from sklearn.ensemble import RandomForestRegressor\n",
    "from sklearn.neural_network import MLPRegressor\n",
    "from sklearn.neighbors import KNeighborsRegressor\n",
    "from sklearn.ensemble import GradientBoostingRegressor\n",
    "\n",
    "from sklearn.preprocessing import MinMaxScaler\n",
    "from sklearn.preprocessing import StandardScaler"
   ]
  },
  {
   "cell_type": "markdown",
   "id": "f3c31d55",
   "metadata": {},
   "source": [
    "## 1) Обработка данных студентов"
   ]
  },
  {
   "cell_type": "markdown",
   "id": "66d1cc34",
   "metadata": {},
   "source": [
    "Цели:\n",
    "- Сравнить средние баллы за три сессии ЕГЭшников и Олимпиадников, тем самым, ответив на вопрос: стоит ли готовиться к олимпиадам, дают ли они преимущество при учебе в университете или можно просто готовиться к ЕГЭ.\n",
    "- Обучить модель, которая предсказывала бы средний балл за три сессии по баллам ЕГЭ и наличию аттестата с отличием,\tсочинения, золотого значка ГТО и права на общежитие."
   ]
  },
  {
   "cell_type": "markdown",
   "id": "686bf9d3",
   "metadata": {},
   "source": [
    "Импортируем файл с данными студентов:"
   ]
  },
  {
   "cell_type": "code",
   "execution_count": 2,
   "id": "b64d32f8",
   "metadata": {},
   "outputs": [],
   "source": [
    "Students = pd.read_csv('Students.csv', header = 0)"
   ]
  },
  {
   "cell_type": "code",
   "execution_count": 3,
   "id": "0f184a17",
   "metadata": {},
   "outputs": [
    {
     "data": {
      "text/plain": [
       "(381, 12)"
      ]
     },
     "execution_count": 3,
     "metadata": {},
     "output_type": "execute_result"
    }
   ],
   "source": [
    "Students.shape"
   ]
  },
  {
   "cell_type": "code",
   "execution_count": 4,
   "id": "53de0f33",
   "metadata": {},
   "outputs": [
    {
     "data": {
      "text/html": [
       "<div>\n",
       "<style scoped>\n",
       "    .dataframe tbody tr th:only-of-type {\n",
       "        vertical-align: middle;\n",
       "    }\n",
       "\n",
       "    .dataframe tbody tr th {\n",
       "        vertical-align: top;\n",
       "    }\n",
       "\n",
       "    .dataframe thead th {\n",
       "        text-align: right;\n",
       "    }\n",
       "</style>\n",
       "<table border=\"1\" class=\"dataframe\">\n",
       "  <thead>\n",
       "    <tr style=\"text-align: right;\">\n",
       "      <th></th>\n",
       "      <th>N зачетки</th>\n",
       "      <th>Ф И О</th>\n",
       "      <th>Экз.гр</th>\n",
       "      <th>оц</th>\n",
       "      <th>5</th>\n",
       "      <th>4</th>\n",
       "      <th>3</th>\n",
       "      <th>2</th>\n",
       "      <th>0</th>\n",
       "      <th>п/сдач</th>\n",
       "      <th>Балл</th>\n",
       "      <th>Рейт</th>\n",
       "    </tr>\n",
       "  </thead>\n",
       "  <tbody>\n",
       "    <tr>\n",
       "      <th>0</th>\n",
       "      <td>3200617</td>\n",
       "      <td>Комарова Ирина Алексеевна</td>\n",
       "      <td>201</td>\n",
       "      <td>14</td>\n",
       "      <td>14</td>\n",
       "      <td>0</td>\n",
       "      <td>0</td>\n",
       "      <td>0</td>\n",
       "      <td>0</td>\n",
       "      <td>0</td>\n",
       "      <td>70</td>\n",
       "      <td>0</td>\n",
       "    </tr>\n",
       "    <tr>\n",
       "      <th>1</th>\n",
       "      <td>3200500</td>\n",
       "      <td>Тарасенков Александр Николаевич</td>\n",
       "      <td>201</td>\n",
       "      <td>14</td>\n",
       "      <td>14</td>\n",
       "      <td>0</td>\n",
       "      <td>0</td>\n",
       "      <td>0</td>\n",
       "      <td>0</td>\n",
       "      <td>0</td>\n",
       "      <td>70</td>\n",
       "      <td>0</td>\n",
       "    </tr>\n",
       "    <tr>\n",
       "      <th>2</th>\n",
       "      <td>3200330</td>\n",
       "      <td>Гордеев Артем Павлович</td>\n",
       "      <td>202</td>\n",
       "      <td>17</td>\n",
       "      <td>17</td>\n",
       "      <td>0</td>\n",
       "      <td>0</td>\n",
       "      <td>0</td>\n",
       "      <td>0</td>\n",
       "      <td>0</td>\n",
       "      <td>85</td>\n",
       "      <td>0</td>\n",
       "    </tr>\n",
       "    <tr>\n",
       "      <th>3</th>\n",
       "      <td>3200410</td>\n",
       "      <td>Михайлова Варвара Игоревна</td>\n",
       "      <td>202</td>\n",
       "      <td>17</td>\n",
       "      <td>17</td>\n",
       "      <td>0</td>\n",
       "      <td>0</td>\n",
       "      <td>0</td>\n",
       "      <td>0</td>\n",
       "      <td>0</td>\n",
       "      <td>85</td>\n",
       "      <td>0</td>\n",
       "    </tr>\n",
       "    <tr>\n",
       "      <th>4</th>\n",
       "      <td>3200400</td>\n",
       "      <td>Линовский Георгий Павлович</td>\n",
       "      <td>206</td>\n",
       "      <td>17</td>\n",
       "      <td>17</td>\n",
       "      <td>0</td>\n",
       "      <td>0</td>\n",
       "      <td>0</td>\n",
       "      <td>0</td>\n",
       "      <td>0</td>\n",
       "      <td>85</td>\n",
       "      <td>0</td>\n",
       "    </tr>\n",
       "  </tbody>\n",
       "</table>\n",
       "</div>"
      ],
      "text/plain": [
       "   N зачетки                            Ф И О  Экз.гр  оц   5  4  3  2  0  \\\n",
       "0    3200617        Комарова Ирина Алексеевна     201  14  14  0  0  0  0   \n",
       "1    3200500  Тарасенков Александр Николаевич     201  14  14  0  0  0  0   \n",
       "2    3200330           Гордеев Артем Павлович     202  17  17  0  0  0  0   \n",
       "3    3200410       Михайлова Варвара Игоревна     202  17  17  0  0  0  0   \n",
       "4    3200400       Линовский Георгий Павлович     206  17  17  0  0  0  0   \n",
       "\n",
       "   п/сдач  Балл  Рейт  \n",
       "0       0    70     0  \n",
       "1       0    70     0  \n",
       "2       0    85     0  \n",
       "3       0    85     0  \n",
       "4       0    85     0  "
      ]
     },
     "execution_count": 4,
     "metadata": {},
     "output_type": "execute_result"
    }
   ],
   "source": [
    "Students.head()"
   ]
  },
  {
   "cell_type": "markdown",
   "id": "e68ae596",
   "metadata": {},
   "source": [
    "Видно, что количество оценок у учеников различается."
   ]
  },
  {
   "cell_type": "code",
   "execution_count": 5,
   "id": "52565da0",
   "metadata": {},
   "outputs": [
    {
     "data": {
      "text/plain": [
       "оц\n",
       "17    336\n",
       "14     22\n",
       "12      5\n",
       "16      5\n",
       "11      4\n",
       "15      4\n",
       "10      2\n",
       "13      2\n",
       "5       1\n",
       "dtype: int64"
      ]
     },
     "execution_count": 5,
     "metadata": {},
     "output_type": "execute_result"
    }
   ],
   "source": [
    "Students.value_counts('оц')"
   ]
  },
  {
   "cell_type": "markdown",
   "id": "4791e9aa",
   "metadata": {},
   "source": [
    "Большинство оценок равно 17."
   ]
  },
  {
   "cell_type": "markdown",
   "id": "48ec0d23",
   "metadata": {},
   "source": [
    "Нормируем баллы:"
   ]
  },
  {
   "cell_type": "code",
   "execution_count": 6,
   "id": "934c7055",
   "metadata": {
    "scrolled": true
   },
   "outputs": [
    {
     "data": {
      "text/html": [
       "<div>\n",
       "<style scoped>\n",
       "    .dataframe tbody tr th:only-of-type {\n",
       "        vertical-align: middle;\n",
       "    }\n",
       "\n",
       "    .dataframe tbody tr th {\n",
       "        vertical-align: top;\n",
       "    }\n",
       "\n",
       "    .dataframe thead th {\n",
       "        text-align: right;\n",
       "    }\n",
       "</style>\n",
       "<table border=\"1\" class=\"dataframe\">\n",
       "  <thead>\n",
       "    <tr style=\"text-align: right;\">\n",
       "      <th></th>\n",
       "      <th>N зачетки</th>\n",
       "      <th>Ф И О</th>\n",
       "      <th>Экз.гр</th>\n",
       "      <th>оц</th>\n",
       "      <th>5</th>\n",
       "      <th>4</th>\n",
       "      <th>3</th>\n",
       "      <th>2</th>\n",
       "      <th>0</th>\n",
       "      <th>п/сдач</th>\n",
       "      <th>Балл</th>\n",
       "      <th>Рейт</th>\n",
       "    </tr>\n",
       "  </thead>\n",
       "  <tbody>\n",
       "    <tr>\n",
       "      <th>0</th>\n",
       "      <td>3200617</td>\n",
       "      <td>Комарова Ирина Алексеевна</td>\n",
       "      <td>201</td>\n",
       "      <td>14</td>\n",
       "      <td>14</td>\n",
       "      <td>0</td>\n",
       "      <td>0</td>\n",
       "      <td>0</td>\n",
       "      <td>0</td>\n",
       "      <td>0</td>\n",
       "      <td>85.0</td>\n",
       "      <td>0</td>\n",
       "    </tr>\n",
       "    <tr>\n",
       "      <th>1</th>\n",
       "      <td>3200500</td>\n",
       "      <td>Тарасенков Александр Николаевич</td>\n",
       "      <td>201</td>\n",
       "      <td>14</td>\n",
       "      <td>14</td>\n",
       "      <td>0</td>\n",
       "      <td>0</td>\n",
       "      <td>0</td>\n",
       "      <td>0</td>\n",
       "      <td>0</td>\n",
       "      <td>85.0</td>\n",
       "      <td>0</td>\n",
       "    </tr>\n",
       "    <tr>\n",
       "      <th>2</th>\n",
       "      <td>3200330</td>\n",
       "      <td>Гордеев Артем Павлович</td>\n",
       "      <td>202</td>\n",
       "      <td>17</td>\n",
       "      <td>17</td>\n",
       "      <td>0</td>\n",
       "      <td>0</td>\n",
       "      <td>0</td>\n",
       "      <td>0</td>\n",
       "      <td>0</td>\n",
       "      <td>85.0</td>\n",
       "      <td>0</td>\n",
       "    </tr>\n",
       "    <tr>\n",
       "      <th>3</th>\n",
       "      <td>3200410</td>\n",
       "      <td>Михайлова Варвара Игоревна</td>\n",
       "      <td>202</td>\n",
       "      <td>17</td>\n",
       "      <td>17</td>\n",
       "      <td>0</td>\n",
       "      <td>0</td>\n",
       "      <td>0</td>\n",
       "      <td>0</td>\n",
       "      <td>0</td>\n",
       "      <td>85.0</td>\n",
       "      <td>0</td>\n",
       "    </tr>\n",
       "    <tr>\n",
       "      <th>4</th>\n",
       "      <td>3200400</td>\n",
       "      <td>Линовский Георгий Павлович</td>\n",
       "      <td>206</td>\n",
       "      <td>17</td>\n",
       "      <td>17</td>\n",
       "      <td>0</td>\n",
       "      <td>0</td>\n",
       "      <td>0</td>\n",
       "      <td>0</td>\n",
       "      <td>0</td>\n",
       "      <td>85.0</td>\n",
       "      <td>0</td>\n",
       "    </tr>\n",
       "  </tbody>\n",
       "</table>\n",
       "</div>"
      ],
      "text/plain": [
       "   N зачетки                            Ф И О  Экз.гр  оц   5  4  3  2  0  \\\n",
       "0    3200617        Комарова Ирина Алексеевна     201  14  14  0  0  0  0   \n",
       "1    3200500  Тарасенков Александр Николаевич     201  14  14  0  0  0  0   \n",
       "2    3200330           Гордеев Артем Павлович     202  17  17  0  0  0  0   \n",
       "3    3200410       Михайлова Варвара Игоревна     202  17  17  0  0  0  0   \n",
       "4    3200400       Линовский Георгий Павлович     206  17  17  0  0  0  0   \n",
       "\n",
       "   п/сдач  Балл  Рейт  \n",
       "0       0  85.0     0  \n",
       "1       0  85.0     0  \n",
       "2       0  85.0     0  \n",
       "3       0  85.0     0  \n",
       "4       0  85.0     0  "
      ]
     },
     "execution_count": 6,
     "metadata": {},
     "output_type": "execute_result"
    }
   ],
   "source": [
    "Students['Балл'] = Students['Балл'] / Students['оц'] * 17\n",
    "Students.head()"
   ]
  },
  {
   "cell_type": "markdown",
   "id": "3c71fd54",
   "metadata": {},
   "source": [
    "Уберем столбцы, которые больше не понадобятся:"
   ]
  },
  {
   "cell_type": "code",
   "execution_count": 7,
   "id": "10f134ec",
   "metadata": {},
   "outputs": [
    {
     "data": {
      "text/html": [
       "<div>\n",
       "<style scoped>\n",
       "    .dataframe tbody tr th:only-of-type {\n",
       "        vertical-align: middle;\n",
       "    }\n",
       "\n",
       "    .dataframe tbody tr th {\n",
       "        vertical-align: top;\n",
       "    }\n",
       "\n",
       "    .dataframe thead th {\n",
       "        text-align: right;\n",
       "    }\n",
       "</style>\n",
       "<table border=\"1\" class=\"dataframe\">\n",
       "  <thead>\n",
       "    <tr style=\"text-align: right;\">\n",
       "      <th></th>\n",
       "      <th>Ф И О</th>\n",
       "      <th>Балл</th>\n",
       "    </tr>\n",
       "  </thead>\n",
       "  <tbody>\n",
       "    <tr>\n",
       "      <th>0</th>\n",
       "      <td>Комарова Ирина Алексеевна</td>\n",
       "      <td>85.0</td>\n",
       "    </tr>\n",
       "    <tr>\n",
       "      <th>1</th>\n",
       "      <td>Тарасенков Александр Николаевич</td>\n",
       "      <td>85.0</td>\n",
       "    </tr>\n",
       "    <tr>\n",
       "      <th>2</th>\n",
       "      <td>Гордеев Артем Павлович</td>\n",
       "      <td>85.0</td>\n",
       "    </tr>\n",
       "    <tr>\n",
       "      <th>3</th>\n",
       "      <td>Михайлова Варвара Игоревна</td>\n",
       "      <td>85.0</td>\n",
       "    </tr>\n",
       "    <tr>\n",
       "      <th>4</th>\n",
       "      <td>Линовский Георгий Павлович</td>\n",
       "      <td>85.0</td>\n",
       "    </tr>\n",
       "  </tbody>\n",
       "</table>\n",
       "</div>"
      ],
      "text/plain": [
       "                             Ф И О  Балл\n",
       "0        Комарова Ирина Алексеевна  85.0\n",
       "1  Тарасенков Александр Николаевич  85.0\n",
       "2           Гордеев Артем Павлович  85.0\n",
       "3       Михайлова Варвара Игоревна  85.0\n",
       "4       Линовский Георгий Павлович  85.0"
      ]
     },
     "execution_count": 7,
     "metadata": {},
     "output_type": "execute_result"
    }
   ],
   "source": [
    "# Создаем таблицу с метрикой, которую мы будем объединять с таблицей EGE_Abiturients\n",
    "Ball = Students.loc[ :, ['Ф И О', 'Балл']]\n",
    "Ball.head()"
   ]
  },
  {
   "cell_type": "markdown",
   "id": "bb5fb436",
   "metadata": {},
   "source": [
    "Чтобы в дальнейшем объединить таблицу студентов с таблицей баллов ЕГЭ, изменим название столбца \"Ф И О\" на \"Ф.И.О\" и приведем имена к верхнему регистру:"
   ]
  },
  {
   "cell_type": "code",
   "execution_count": 8,
   "id": "7e613d79",
   "metadata": {},
   "outputs": [
    {
     "data": {
      "text/html": [
       "<div>\n",
       "<style scoped>\n",
       "    .dataframe tbody tr th:only-of-type {\n",
       "        vertical-align: middle;\n",
       "    }\n",
       "\n",
       "    .dataframe tbody tr th {\n",
       "        vertical-align: top;\n",
       "    }\n",
       "\n",
       "    .dataframe thead th {\n",
       "        text-align: right;\n",
       "    }\n",
       "</style>\n",
       "<table border=\"1\" class=\"dataframe\">\n",
       "  <thead>\n",
       "    <tr style=\"text-align: right;\">\n",
       "      <th></th>\n",
       "      <th>Ф.И.О</th>\n",
       "      <th>Балл</th>\n",
       "    </tr>\n",
       "  </thead>\n",
       "  <tbody>\n",
       "    <tr>\n",
       "      <th>0</th>\n",
       "      <td>КОМАРОВА ИРИНА АЛЕКСЕЕВНА</td>\n",
       "      <td>85.0</td>\n",
       "    </tr>\n",
       "    <tr>\n",
       "      <th>1</th>\n",
       "      <td>ТАРАСЕНКОВ АЛЕКСАНДР НИКОЛАЕВИЧ</td>\n",
       "      <td>85.0</td>\n",
       "    </tr>\n",
       "    <tr>\n",
       "      <th>2</th>\n",
       "      <td>ГОРДЕЕВ АРТЕМ ПАВЛОВИЧ</td>\n",
       "      <td>85.0</td>\n",
       "    </tr>\n",
       "    <tr>\n",
       "      <th>3</th>\n",
       "      <td>МИХАЙЛОВА ВАРВАРА ИГОРЕВНА</td>\n",
       "      <td>85.0</td>\n",
       "    </tr>\n",
       "    <tr>\n",
       "      <th>4</th>\n",
       "      <td>ЛИНОВСКИЙ ГЕОРГИЙ ПАВЛОВИЧ</td>\n",
       "      <td>85.0</td>\n",
       "    </tr>\n",
       "  </tbody>\n",
       "</table>\n",
       "</div>"
      ],
      "text/plain": [
       "                             Ф.И.О  Балл\n",
       "0        КОМАРОВА ИРИНА АЛЕКСЕЕВНА  85.0\n",
       "1  ТАРАСЕНКОВ АЛЕКСАНДР НИКОЛАЕВИЧ  85.0\n",
       "2           ГОРДЕЕВ АРТЕМ ПАВЛОВИЧ  85.0\n",
       "3       МИХАЙЛОВА ВАРВАРА ИГОРЕВНА  85.0\n",
       "4       ЛИНОВСКИЙ ГЕОРГИЙ ПАВЛОВИЧ  85.0"
      ]
     },
     "execution_count": 8,
     "metadata": {},
     "output_type": "execute_result"
    }
   ],
   "source": [
    "Ball['Ф И О'] = Ball['Ф И О'].str.upper()\n",
    "\n",
    "Ball.rename(columns={'Ф И О': 'Ф.И.О'}, inplace=True)\n",
    "\n",
    "Ball.head()"
   ]
  },
  {
   "cell_type": "markdown",
   "id": "797b5b51",
   "metadata": {},
   "source": [
    "## 2) Обработка данных абитуриентов"
   ]
  },
  {
   "cell_type": "markdown",
   "id": "ac0dcaeb",
   "metadata": {},
   "source": [
    "Импортируем файл с данными абитуриентов:"
   ]
  },
  {
   "cell_type": "code",
   "execution_count": 9,
   "id": "f4bcc2c5",
   "metadata": {},
   "outputs": [],
   "source": [
    "Abiturients = pd.read_csv('Abiturients.csv', header = 0)"
   ]
  },
  {
   "cell_type": "code",
   "execution_count": 10,
   "id": "413379ec",
   "metadata": {
    "scrolled": false
   },
   "outputs": [
    {
     "data": {
      "text/plain": [
       "(419, 11)"
      ]
     },
     "execution_count": 10,
     "metadata": {},
     "output_type": "execute_result"
    }
   ],
   "source": [
    "Abiturients.shape"
   ]
  },
  {
   "cell_type": "code",
   "execution_count": 11,
   "id": "b6c242a0",
   "metadata": {},
   "outputs": [
    {
     "data": {
      "text/html": [
       "<div>\n",
       "<style scoped>\n",
       "    .dataframe tbody tr th:only-of-type {\n",
       "        vertical-align: middle;\n",
       "    }\n",
       "\n",
       "    .dataframe tbody tr th {\n",
       "        vertical-align: top;\n",
       "    }\n",
       "\n",
       "    .dataframe thead th {\n",
       "        text-align: right;\n",
       "    }\n",
       "</style>\n",
       "<table border=\"1\" class=\"dataframe\">\n",
       "  <thead>\n",
       "    <tr style=\"text-align: right;\">\n",
       "      <th></th>\n",
       "      <th>Ф.И.О</th>\n",
       "      <th>Льготы</th>\n",
       "      <th>Сумма баллов</th>\n",
       "      <th>ФИЗИКА(ДВИ)</th>\n",
       "      <th>ФИЗИКА(ЕГЭ)</th>\n",
       "      <th>МАТЕМАТИКА(ЕГЭ)</th>\n",
       "      <th>РУССКИЙ ЯЗЫК(ЕГЭ)</th>\n",
       "      <th>Аттестат с отличием</th>\n",
       "      <th>Сочинение</th>\n",
       "      <th>ГТО</th>\n",
       "      <th>Право на общежитие</th>\n",
       "    </tr>\n",
       "  </thead>\n",
       "  <tbody>\n",
       "    <tr>\n",
       "      <th>0</th>\n",
       "      <td>БАБУШКИН КИРИЛЛ ПАВЛОВИЧ</td>\n",
       "      <td>NaN</td>\n",
       "      <td>305.0</td>\n",
       "      <td>81.0</td>\n",
       "      <td>64.0</td>\n",
       "      <td>76.0</td>\n",
       "      <td>82.0</td>\n",
       "      <td>0.0</td>\n",
       "      <td>2.0</td>\n",
       "      <td>0.0</td>\n",
       "      <td>Нет</td>\n",
       "    </tr>\n",
       "    <tr>\n",
       "      <th>1</th>\n",
       "      <td>СЕДЕНЬ АНТОН СЕРГЕЕВИЧ</td>\n",
       "      <td>NaN</td>\n",
       "      <td>297.0</td>\n",
       "      <td>39.0</td>\n",
       "      <td>81.0</td>\n",
       "      <td>82.0</td>\n",
       "      <td>87.0</td>\n",
       "      <td>6.0</td>\n",
       "      <td>2.0</td>\n",
       "      <td>0.0</td>\n",
       "      <td>Да</td>\n",
       "    </tr>\n",
       "    <tr>\n",
       "      <th>2</th>\n",
       "      <td>УВАРИЧЕВ МАКСИМ БОРИСОВИЧ</td>\n",
       "      <td>NaN</td>\n",
       "      <td>296.0</td>\n",
       "      <td>47.0</td>\n",
       "      <td>76.0</td>\n",
       "      <td>76.0</td>\n",
       "      <td>87.0</td>\n",
       "      <td>6.0</td>\n",
       "      <td>2.0</td>\n",
       "      <td>2.0</td>\n",
       "      <td>Нет</td>\n",
       "    </tr>\n",
       "    <tr>\n",
       "      <th>3</th>\n",
       "      <td>ВЫСОТИН СТЕПАН АЛЕКСЕЕВИЧ</td>\n",
       "      <td>NaN</td>\n",
       "      <td>248.0</td>\n",
       "      <td>36.0</td>\n",
       "      <td>62.0</td>\n",
       "      <td>80.0</td>\n",
       "      <td>70.0</td>\n",
       "      <td>0.0</td>\n",
       "      <td>0.0</td>\n",
       "      <td>0.0</td>\n",
       "      <td>Да</td>\n",
       "    </tr>\n",
       "    <tr>\n",
       "      <th>4</th>\n",
       "      <td>ЕФИМОВ РУСЛАН АЛЕКСАНДРОВИЧ</td>\n",
       "      <td>NaN</td>\n",
       "      <td>195.0</td>\n",
       "      <td>46.0</td>\n",
       "      <td>42.0</td>\n",
       "      <td>39.0</td>\n",
       "      <td>66.0</td>\n",
       "      <td>0.0</td>\n",
       "      <td>2.0</td>\n",
       "      <td>0.0</td>\n",
       "      <td>Нет</td>\n",
       "    </tr>\n",
       "  </tbody>\n",
       "</table>\n",
       "</div>"
      ],
      "text/plain": [
       "                         Ф.И.О Льготы  Сумма баллов  ФИЗИКА(ДВИ)  ФИЗИКА(ЕГЭ)  \\\n",
       "0     БАБУШКИН КИРИЛЛ ПАВЛОВИЧ    NaN         305.0         81.0         64.0   \n",
       "1       СЕДЕНЬ АНТОН СЕРГЕЕВИЧ    NaN         297.0         39.0         81.0   \n",
       "2    УВАРИЧЕВ МАКСИМ БОРИСОВИЧ    NaN         296.0         47.0         76.0   \n",
       "3    ВЫСОТИН СТЕПАН АЛЕКСЕЕВИЧ    NaN         248.0         36.0         62.0   \n",
       "4  ЕФИМОВ РУСЛАН АЛЕКСАНДРОВИЧ    NaN         195.0         46.0         42.0   \n",
       "\n",
       "   МАТЕМАТИКА(ЕГЭ)  РУССКИЙ ЯЗЫК(ЕГЭ)  Аттестат с отличием  Сочинение  ГТО  \\\n",
       "0             76.0               82.0                  0.0        2.0  0.0   \n",
       "1             82.0               87.0                  6.0        2.0  0.0   \n",
       "2             76.0               87.0                  6.0        2.0  2.0   \n",
       "3             80.0               70.0                  0.0        0.0  0.0   \n",
       "4             39.0               66.0                  0.0        2.0  0.0   \n",
       "\n",
       "  Право на общежитие  \n",
       "0                Нет  \n",
       "1                 Да  \n",
       "2                Нет  \n",
       "3                 Да  \n",
       "4                Нет  "
      ]
     },
     "execution_count": 11,
     "metadata": {},
     "output_type": "execute_result"
    }
   ],
   "source": [
    "Abiturients.head()"
   ]
  },
  {
   "cell_type": "markdown",
   "id": "8c9ccccd",
   "metadata": {},
   "source": [
    "Посмотрим на стык абитуриентов с льготами и ЕГЭ:"
   ]
  },
  {
   "cell_type": "code",
   "execution_count": 12,
   "id": "796f02ff",
   "metadata": {},
   "outputs": [
    {
     "data": {
      "text/plain": [
       "125"
      ]
     },
     "execution_count": 12,
     "metadata": {},
     "output_type": "execute_result"
    }
   ],
   "source": [
    "Abiturients['Сумма баллов'].count(None)"
   ]
  },
  {
   "cell_type": "code",
   "execution_count": 13,
   "id": "d65aa375",
   "metadata": {
    "scrolled": false
   },
   "outputs": [
    {
     "data": {
      "text/html": [
       "<div>\n",
       "<style scoped>\n",
       "    .dataframe tbody tr th:only-of-type {\n",
       "        vertical-align: middle;\n",
       "    }\n",
       "\n",
       "    .dataframe tbody tr th {\n",
       "        vertical-align: top;\n",
       "    }\n",
       "\n",
       "    .dataframe thead th {\n",
       "        text-align: right;\n",
       "    }\n",
       "</style>\n",
       "<table border=\"1\" class=\"dataframe\">\n",
       "  <thead>\n",
       "    <tr style=\"text-align: right;\">\n",
       "      <th></th>\n",
       "      <th>Ф.И.О</th>\n",
       "      <th>Льготы</th>\n",
       "      <th>Сумма баллов</th>\n",
       "      <th>ФИЗИКА(ДВИ)</th>\n",
       "      <th>ФИЗИКА(ЕГЭ)</th>\n",
       "      <th>МАТЕМАТИКА(ЕГЭ)</th>\n",
       "      <th>РУССКИЙ ЯЗЫК(ЕГЭ)</th>\n",
       "      <th>Аттестат с отличием</th>\n",
       "      <th>Сочинение</th>\n",
       "      <th>ГТО</th>\n",
       "      <th>Право на общежитие</th>\n",
       "    </tr>\n",
       "  </thead>\n",
       "  <tbody>\n",
       "    <tr>\n",
       "      <th>123</th>\n",
       "      <td>КАРАМНОВ МАКСИМ ИГОРЕВИЧ</td>\n",
       "      <td>NaN</td>\n",
       "      <td>348.0</td>\n",
       "      <td>100.0</td>\n",
       "      <td>97.0</td>\n",
       "      <td>76.0</td>\n",
       "      <td>73.0</td>\n",
       "      <td>0.0</td>\n",
       "      <td>2.0</td>\n",
       "      <td>0.0</td>\n",
       "      <td>Нет</td>\n",
       "    </tr>\n",
       "    <tr>\n",
       "      <th>124</th>\n",
       "      <td>ФЕДОТОВА АНАСТАСИЯ ЕВГЕНЬЕВНА</td>\n",
       "      <td>NaN</td>\n",
       "      <td>347.0</td>\n",
       "      <td>69.0</td>\n",
       "      <td>97.0</td>\n",
       "      <td>88.0</td>\n",
       "      <td>91.0</td>\n",
       "      <td>0.0</td>\n",
       "      <td>2.0</td>\n",
       "      <td>0.0</td>\n",
       "      <td>Да</td>\n",
       "    </tr>\n",
       "    <tr>\n",
       "      <th>125</th>\n",
       "      <td>ВАХОНИН АРТЕМИЙ АНДРЕЕВИЧ</td>\n",
       "      <td>Призер Всероссийской олимпиады школьников</td>\n",
       "      <td>NaN</td>\n",
       "      <td>NaN</td>\n",
       "      <td>NaN</td>\n",
       "      <td>NaN</td>\n",
       "      <td>NaN</td>\n",
       "      <td>6.0</td>\n",
       "      <td>2.0</td>\n",
       "      <td>0.0</td>\n",
       "      <td>Нет</td>\n",
       "    </tr>\n",
       "    <tr>\n",
       "      <th>126</th>\n",
       "      <td>NaN</td>\n",
       "      <td>Призер олимпиады № 36</td>\n",
       "      <td>NaN</td>\n",
       "      <td>NaN</td>\n",
       "      <td>NaN</td>\n",
       "      <td>NaN</td>\n",
       "      <td>NaN</td>\n",
       "      <td>NaN</td>\n",
       "      <td>NaN</td>\n",
       "      <td>NaN</td>\n",
       "      <td>NaN</td>\n",
       "    </tr>\n",
       "    <tr>\n",
       "      <th>127</th>\n",
       "      <td>ТАРАСЕНКОВ АЛЕКСАНДР НИКОЛАЕВИЧ</td>\n",
       "      <td>Призер Всероссийской олимпиады школьников</td>\n",
       "      <td>NaN</td>\n",
       "      <td>NaN</td>\n",
       "      <td>NaN</td>\n",
       "      <td>NaN</td>\n",
       "      <td>NaN</td>\n",
       "      <td>6.0</td>\n",
       "      <td>2.0</td>\n",
       "      <td>0.0</td>\n",
       "      <td>Нет</td>\n",
       "    </tr>\n",
       "    <tr>\n",
       "      <th>128</th>\n",
       "      <td>ГОРАН АРСЕНИЙ ПАВЛОВИЧ</td>\n",
       "      <td>Победитель Всероссийской олимпиады школьников</td>\n",
       "      <td>NaN</td>\n",
       "      <td>NaN</td>\n",
       "      <td>NaN</td>\n",
       "      <td>NaN</td>\n",
       "      <td>NaN</td>\n",
       "      <td>0.0</td>\n",
       "      <td>2.0</td>\n",
       "      <td>0.0</td>\n",
       "      <td>Да</td>\n",
       "    </tr>\n",
       "  </tbody>\n",
       "</table>\n",
       "</div>"
      ],
      "text/plain": [
       "                               Ф.И.О  \\\n",
       "123         КАРАМНОВ МАКСИМ ИГОРЕВИЧ   \n",
       "124    ФЕДОТОВА АНАСТАСИЯ ЕВГЕНЬЕВНА   \n",
       "125        ВАХОНИН АРТЕМИЙ АНДРЕЕВИЧ   \n",
       "126                              NaN   \n",
       "127  ТАРАСЕНКОВ АЛЕКСАНДР НИКОЛАЕВИЧ   \n",
       "128           ГОРАН АРСЕНИЙ ПАВЛОВИЧ   \n",
       "\n",
       "                                            Льготы  Сумма баллов  ФИЗИКА(ДВИ)  \\\n",
       "123                                            NaN         348.0        100.0   \n",
       "124                                            NaN         347.0         69.0   \n",
       "125      Призер Всероссийской олимпиады школьников           NaN          NaN   \n",
       "126                          Призер олимпиады № 36           NaN          NaN   \n",
       "127      Призер Всероссийской олимпиады школьников           NaN          NaN   \n",
       "128  Победитель Всероссийской олимпиады школьников           NaN          NaN   \n",
       "\n",
       "     ФИЗИКА(ЕГЭ)  МАТЕМАТИКА(ЕГЭ)  РУССКИЙ ЯЗЫК(ЕГЭ)  Аттестат с отличием  \\\n",
       "123         97.0             76.0               73.0                  0.0   \n",
       "124         97.0             88.0               91.0                  0.0   \n",
       "125          NaN              NaN                NaN                  6.0   \n",
       "126          NaN              NaN                NaN                  NaN   \n",
       "127          NaN              NaN                NaN                  6.0   \n",
       "128          NaN              NaN                NaN                  0.0   \n",
       "\n",
       "     Сочинение  ГТО Право на общежитие  \n",
       "123        2.0  0.0                Нет  \n",
       "124        2.0  0.0                 Да  \n",
       "125        2.0  0.0                Нет  \n",
       "126        NaN  NaN                NaN  \n",
       "127        2.0  0.0                Нет  \n",
       "128        2.0  0.0                 Да  "
      ]
     },
     "execution_count": 13,
     "metadata": {},
     "output_type": "execute_result"
    }
   ],
   "source": [
    "Abiturients.iloc[[i for i in range(123, 129)]]"
   ]
  },
  {
   "cell_type": "markdown",
   "id": "6df35fc9",
   "metadata": {},
   "source": [
    "Как оказалось, у абитуриентов с несколькими олимпиадами вторая и т.д. олимпиады выносятся в отдельную строку. Эти строки нам не нужны, удалим их:"
   ]
  },
  {
   "cell_type": "code",
   "execution_count": 14,
   "id": "4f45d327",
   "metadata": {},
   "outputs": [],
   "source": [
    "Abiturients = Abiturients.dropna(thresh=2)"
   ]
  },
  {
   "cell_type": "code",
   "execution_count": 15,
   "id": "5c43b132",
   "metadata": {},
   "outputs": [
    {
     "data": {
      "text/plain": [
       "(343, 11)"
      ]
     },
     "execution_count": 15,
     "metadata": {},
     "output_type": "execute_result"
    }
   ],
   "source": [
    "Abiturients.shape"
   ]
  },
  {
   "cell_type": "markdown",
   "id": "f4bbd8bb",
   "metadata": {},
   "source": [
    "Приведем к бинарному виду столбцы: \"Право на общежитие\", \"ГТО\", \"Сочинение, \"Аттестат с отличием\":"
   ]
  },
  {
   "cell_type": "code",
   "execution_count": 16,
   "id": "4b789525",
   "metadata": {
    "scrolled": false
   },
   "outputs": [
    {
     "data": {
      "text/html": [
       "<div>\n",
       "<style scoped>\n",
       "    .dataframe tbody tr th:only-of-type {\n",
       "        vertical-align: middle;\n",
       "    }\n",
       "\n",
       "    .dataframe tbody tr th {\n",
       "        vertical-align: top;\n",
       "    }\n",
       "\n",
       "    .dataframe thead th {\n",
       "        text-align: right;\n",
       "    }\n",
       "</style>\n",
       "<table border=\"1\" class=\"dataframe\">\n",
       "  <thead>\n",
       "    <tr style=\"text-align: right;\">\n",
       "      <th></th>\n",
       "      <th>Ф.И.О</th>\n",
       "      <th>Льготы</th>\n",
       "      <th>Сумма баллов</th>\n",
       "      <th>ФИЗИКА(ДВИ)</th>\n",
       "      <th>ФИЗИКА(ЕГЭ)</th>\n",
       "      <th>МАТЕМАТИКА(ЕГЭ)</th>\n",
       "      <th>РУССКИЙ ЯЗЫК(ЕГЭ)</th>\n",
       "      <th>Аттестат с отличием</th>\n",
       "      <th>Сочинение</th>\n",
       "      <th>ГТО</th>\n",
       "      <th>Право на общежитие</th>\n",
       "    </tr>\n",
       "  </thead>\n",
       "  <tbody>\n",
       "    <tr>\n",
       "      <th>0</th>\n",
       "      <td>БАБУШКИН КИРИЛЛ ПАВЛОВИЧ</td>\n",
       "      <td>NaN</td>\n",
       "      <td>305.0</td>\n",
       "      <td>81.0</td>\n",
       "      <td>64.0</td>\n",
       "      <td>76.0</td>\n",
       "      <td>82.0</td>\n",
       "      <td>0.0</td>\n",
       "      <td>1.0</td>\n",
       "      <td>0.0</td>\n",
       "      <td>0</td>\n",
       "    </tr>\n",
       "    <tr>\n",
       "      <th>1</th>\n",
       "      <td>СЕДЕНЬ АНТОН СЕРГЕЕВИЧ</td>\n",
       "      <td>NaN</td>\n",
       "      <td>297.0</td>\n",
       "      <td>39.0</td>\n",
       "      <td>81.0</td>\n",
       "      <td>82.0</td>\n",
       "      <td>87.0</td>\n",
       "      <td>1.0</td>\n",
       "      <td>1.0</td>\n",
       "      <td>0.0</td>\n",
       "      <td>1</td>\n",
       "    </tr>\n",
       "    <tr>\n",
       "      <th>2</th>\n",
       "      <td>УВАРИЧЕВ МАКСИМ БОРИСОВИЧ</td>\n",
       "      <td>NaN</td>\n",
       "      <td>296.0</td>\n",
       "      <td>47.0</td>\n",
       "      <td>76.0</td>\n",
       "      <td>76.0</td>\n",
       "      <td>87.0</td>\n",
       "      <td>1.0</td>\n",
       "      <td>1.0</td>\n",
       "      <td>1.0</td>\n",
       "      <td>0</td>\n",
       "    </tr>\n",
       "    <tr>\n",
       "      <th>3</th>\n",
       "      <td>ВЫСОТИН СТЕПАН АЛЕКСЕЕВИЧ</td>\n",
       "      <td>NaN</td>\n",
       "      <td>248.0</td>\n",
       "      <td>36.0</td>\n",
       "      <td>62.0</td>\n",
       "      <td>80.0</td>\n",
       "      <td>70.0</td>\n",
       "      <td>0.0</td>\n",
       "      <td>0.0</td>\n",
       "      <td>0.0</td>\n",
       "      <td>1</td>\n",
       "    </tr>\n",
       "    <tr>\n",
       "      <th>4</th>\n",
       "      <td>ЕФИМОВ РУСЛАН АЛЕКСАНДРОВИЧ</td>\n",
       "      <td>NaN</td>\n",
       "      <td>195.0</td>\n",
       "      <td>46.0</td>\n",
       "      <td>42.0</td>\n",
       "      <td>39.0</td>\n",
       "      <td>66.0</td>\n",
       "      <td>0.0</td>\n",
       "      <td>1.0</td>\n",
       "      <td>0.0</td>\n",
       "      <td>0</td>\n",
       "    </tr>\n",
       "  </tbody>\n",
       "</table>\n",
       "</div>"
      ],
      "text/plain": [
       "                         Ф.И.О Льготы  Сумма баллов  ФИЗИКА(ДВИ)  ФИЗИКА(ЕГЭ)  \\\n",
       "0     БАБУШКИН КИРИЛЛ ПАВЛОВИЧ    NaN         305.0         81.0         64.0   \n",
       "1       СЕДЕНЬ АНТОН СЕРГЕЕВИЧ    NaN         297.0         39.0         81.0   \n",
       "2    УВАРИЧЕВ МАКСИМ БОРИСОВИЧ    NaN         296.0         47.0         76.0   \n",
       "3    ВЫСОТИН СТЕПАН АЛЕКСЕЕВИЧ    NaN         248.0         36.0         62.0   \n",
       "4  ЕФИМОВ РУСЛАН АЛЕКСАНДРОВИЧ    NaN         195.0         46.0         42.0   \n",
       "\n",
       "   МАТЕМАТИКА(ЕГЭ)  РУССКИЙ ЯЗЫК(ЕГЭ)  Аттестат с отличием  Сочинение  ГТО  \\\n",
       "0             76.0               82.0                  0.0        1.0  0.0   \n",
       "1             82.0               87.0                  1.0        1.0  0.0   \n",
       "2             76.0               87.0                  1.0        1.0  1.0   \n",
       "3             80.0               70.0                  0.0        0.0  0.0   \n",
       "4             39.0               66.0                  0.0        1.0  0.0   \n",
       "\n",
       "   Право на общежитие  \n",
       "0                   0  \n",
       "1                   1  \n",
       "2                   0  \n",
       "3                   1  \n",
       "4                   0  "
      ]
     },
     "execution_count": 16,
     "metadata": {},
     "output_type": "execute_result"
    }
   ],
   "source": [
    "Abiturients = Abiturients.replace({'Право на общежитие':{'Да':1, 'Нет':0}, 'ГТО':{2:1},\n",
    "                                   'Сочинение':{2:1}, 'Аттестат с отличием':{6:1}})\n",
    "Abiturients.head()"
   ]
  },
  {
   "cell_type": "markdown",
   "id": "4d608ecd",
   "metadata": {},
   "source": [
    "Разобьем таблицу абитуриентов на две таблицы: абитуриентов с льготами и абитуриентов с баллами ЕГЭ:"
   ]
  },
  {
   "cell_type": "code",
   "execution_count": 17,
   "id": "b3f3309e",
   "metadata": {},
   "outputs": [],
   "source": [
    "EGE_Abiturients = Abiturients[:125]\n",
    "Lgoti_Abiturients = Abiturients[125:]"
   ]
  },
  {
   "cell_type": "markdown",
   "id": "d25e23a3",
   "metadata": {},
   "source": [
    "Уберем в EGE_Abiturients столбец \"Льготы\" и \"Сумма баллов\", а в  Lgoti_Abiturients столбцы с баллами ЕГЭ и столбец \"Сумма баллов\":"
   ]
  },
  {
   "cell_type": "code",
   "execution_count": 18,
   "id": "311d2f46",
   "metadata": {},
   "outputs": [
    {
     "data": {
      "text/html": [
       "<div>\n",
       "<style scoped>\n",
       "    .dataframe tbody tr th:only-of-type {\n",
       "        vertical-align: middle;\n",
       "    }\n",
       "\n",
       "    .dataframe tbody tr th {\n",
       "        vertical-align: top;\n",
       "    }\n",
       "\n",
       "    .dataframe thead th {\n",
       "        text-align: right;\n",
       "    }\n",
       "</style>\n",
       "<table border=\"1\" class=\"dataframe\">\n",
       "  <thead>\n",
       "    <tr style=\"text-align: right;\">\n",
       "      <th></th>\n",
       "      <th>Ф.И.О</th>\n",
       "      <th>ФИЗИКА(ДВИ)</th>\n",
       "      <th>ФИЗИКА(ЕГЭ)</th>\n",
       "      <th>МАТЕМАТИКА(ЕГЭ)</th>\n",
       "      <th>РУССКИЙ ЯЗЫК(ЕГЭ)</th>\n",
       "      <th>Аттестат с отличием</th>\n",
       "      <th>Сочинение</th>\n",
       "      <th>ГТО</th>\n",
       "      <th>Право на общежитие</th>\n",
       "    </tr>\n",
       "  </thead>\n",
       "  <tbody>\n",
       "    <tr>\n",
       "      <th>0</th>\n",
       "      <td>БАБУШКИН КИРИЛЛ ПАВЛОВИЧ</td>\n",
       "      <td>81.0</td>\n",
       "      <td>64.0</td>\n",
       "      <td>76.0</td>\n",
       "      <td>82.0</td>\n",
       "      <td>0.0</td>\n",
       "      <td>1.0</td>\n",
       "      <td>0.0</td>\n",
       "      <td>0</td>\n",
       "    </tr>\n",
       "    <tr>\n",
       "      <th>1</th>\n",
       "      <td>СЕДЕНЬ АНТОН СЕРГЕЕВИЧ</td>\n",
       "      <td>39.0</td>\n",
       "      <td>81.0</td>\n",
       "      <td>82.0</td>\n",
       "      <td>87.0</td>\n",
       "      <td>1.0</td>\n",
       "      <td>1.0</td>\n",
       "      <td>0.0</td>\n",
       "      <td>1</td>\n",
       "    </tr>\n",
       "    <tr>\n",
       "      <th>2</th>\n",
       "      <td>УВАРИЧЕВ МАКСИМ БОРИСОВИЧ</td>\n",
       "      <td>47.0</td>\n",
       "      <td>76.0</td>\n",
       "      <td>76.0</td>\n",
       "      <td>87.0</td>\n",
       "      <td>1.0</td>\n",
       "      <td>1.0</td>\n",
       "      <td>1.0</td>\n",
       "      <td>0</td>\n",
       "    </tr>\n",
       "    <tr>\n",
       "      <th>3</th>\n",
       "      <td>ВЫСОТИН СТЕПАН АЛЕКСЕЕВИЧ</td>\n",
       "      <td>36.0</td>\n",
       "      <td>62.0</td>\n",
       "      <td>80.0</td>\n",
       "      <td>70.0</td>\n",
       "      <td>0.0</td>\n",
       "      <td>0.0</td>\n",
       "      <td>0.0</td>\n",
       "      <td>1</td>\n",
       "    </tr>\n",
       "    <tr>\n",
       "      <th>4</th>\n",
       "      <td>ЕФИМОВ РУСЛАН АЛЕКСАНДРОВИЧ</td>\n",
       "      <td>46.0</td>\n",
       "      <td>42.0</td>\n",
       "      <td>39.0</td>\n",
       "      <td>66.0</td>\n",
       "      <td>0.0</td>\n",
       "      <td>1.0</td>\n",
       "      <td>0.0</td>\n",
       "      <td>0</td>\n",
       "    </tr>\n",
       "  </tbody>\n",
       "</table>\n",
       "</div>"
      ],
      "text/plain": [
       "                         Ф.И.О  ФИЗИКА(ДВИ)  ФИЗИКА(ЕГЭ)  МАТЕМАТИКА(ЕГЭ)  \\\n",
       "0     БАБУШКИН КИРИЛЛ ПАВЛОВИЧ         81.0         64.0             76.0   \n",
       "1       СЕДЕНЬ АНТОН СЕРГЕЕВИЧ         39.0         81.0             82.0   \n",
       "2    УВАРИЧЕВ МАКСИМ БОРИСОВИЧ         47.0         76.0             76.0   \n",
       "3    ВЫСОТИН СТЕПАН АЛЕКСЕЕВИЧ         36.0         62.0             80.0   \n",
       "4  ЕФИМОВ РУСЛАН АЛЕКСАНДРОВИЧ         46.0         42.0             39.0   \n",
       "\n",
       "   РУССКИЙ ЯЗЫК(ЕГЭ)  Аттестат с отличием  Сочинение  ГТО  Право на общежитие  \n",
       "0               82.0                  0.0        1.0  0.0                   0  \n",
       "1               87.0                  1.0        1.0  0.0                   1  \n",
       "2               87.0                  1.0        1.0  1.0                   0  \n",
       "3               70.0                  0.0        0.0  0.0                   1  \n",
       "4               66.0                  0.0        1.0  0.0                   0  "
      ]
     },
     "execution_count": 18,
     "metadata": {},
     "output_type": "execute_result"
    }
   ],
   "source": [
    "EGE_Abiturients = EGE_Abiturients.drop(['Льготы', 'Сумма баллов'], axis = 1)\n",
    "EGE_Abiturients.head()"
   ]
  },
  {
   "cell_type": "code",
   "execution_count": 19,
   "id": "e841e6cf",
   "metadata": {
    "scrolled": true
   },
   "outputs": [
    {
     "data": {
      "text/html": [
       "<div>\n",
       "<style scoped>\n",
       "    .dataframe tbody tr th:only-of-type {\n",
       "        vertical-align: middle;\n",
       "    }\n",
       "\n",
       "    .dataframe tbody tr th {\n",
       "        vertical-align: top;\n",
       "    }\n",
       "\n",
       "    .dataframe thead th {\n",
       "        text-align: right;\n",
       "    }\n",
       "</style>\n",
       "<table border=\"1\" class=\"dataframe\">\n",
       "  <thead>\n",
       "    <tr style=\"text-align: right;\">\n",
       "      <th></th>\n",
       "      <th>Ф.И.О</th>\n",
       "      <th>Льготы</th>\n",
       "      <th>Аттестат с отличием</th>\n",
       "      <th>Сочинение</th>\n",
       "      <th>ГТО</th>\n",
       "      <th>Право на общежитие</th>\n",
       "    </tr>\n",
       "  </thead>\n",
       "  <tbody>\n",
       "    <tr>\n",
       "      <th>125</th>\n",
       "      <td>ВАХОНИН АРТЕМИЙ АНДРЕЕВИЧ</td>\n",
       "      <td>Призер Всероссийской олимпиады школьников</td>\n",
       "      <td>1.0</td>\n",
       "      <td>1.0</td>\n",
       "      <td>0.0</td>\n",
       "      <td>0</td>\n",
       "    </tr>\n",
       "    <tr>\n",
       "      <th>127</th>\n",
       "      <td>ТАРАСЕНКОВ АЛЕКСАНДР НИКОЛАЕВИЧ</td>\n",
       "      <td>Призер Всероссийской олимпиады школьников</td>\n",
       "      <td>1.0</td>\n",
       "      <td>1.0</td>\n",
       "      <td>0.0</td>\n",
       "      <td>0</td>\n",
       "    </tr>\n",
       "    <tr>\n",
       "      <th>128</th>\n",
       "      <td>ГОРАН АРСЕНИЙ ПАВЛОВИЧ</td>\n",
       "      <td>Победитель Всероссийской олимпиады школьников</td>\n",
       "      <td>0.0</td>\n",
       "      <td>1.0</td>\n",
       "      <td>0.0</td>\n",
       "      <td>1</td>\n",
       "    </tr>\n",
       "    <tr>\n",
       "      <th>129</th>\n",
       "      <td>ОСТАПОВИЧ ДМИТРИЙ СЕРГЕЕВИЧ</td>\n",
       "      <td>Призер Всероссийской олимпиады школьников</td>\n",
       "      <td>1.0</td>\n",
       "      <td>1.0</td>\n",
       "      <td>0.0</td>\n",
       "      <td>0</td>\n",
       "    </tr>\n",
       "    <tr>\n",
       "      <th>130</th>\n",
       "      <td>ГОРДЕЕВ АРТЕМ ПАВЛОВИЧ</td>\n",
       "      <td>Призер Всероссийской олимпиады школьников</td>\n",
       "      <td>0.0</td>\n",
       "      <td>1.0</td>\n",
       "      <td>0.0</td>\n",
       "      <td>1</td>\n",
       "    </tr>\n",
       "  </tbody>\n",
       "</table>\n",
       "</div>"
      ],
      "text/plain": [
       "                               Ф.И.О  \\\n",
       "125        ВАХОНИН АРТЕМИЙ АНДРЕЕВИЧ   \n",
       "127  ТАРАСЕНКОВ АЛЕКСАНДР НИКОЛАЕВИЧ   \n",
       "128           ГОРАН АРСЕНИЙ ПАВЛОВИЧ   \n",
       "129      ОСТАПОВИЧ ДМИТРИЙ СЕРГЕЕВИЧ   \n",
       "130           ГОРДЕЕВ АРТЕМ ПАВЛОВИЧ   \n",
       "\n",
       "                                            Льготы  Аттестат с отличием  \\\n",
       "125      Призер Всероссийской олимпиады школьников                  1.0   \n",
       "127      Призер Всероссийской олимпиады школьников                  1.0   \n",
       "128  Победитель Всероссийской олимпиады школьников                  0.0   \n",
       "129      Призер Всероссийской олимпиады школьников                  1.0   \n",
       "130      Призер Всероссийской олимпиады школьников                  0.0   \n",
       "\n",
       "     Сочинение  ГТО  Право на общежитие  \n",
       "125        1.0  0.0                   0  \n",
       "127        1.0  0.0                   0  \n",
       "128        1.0  0.0                   1  \n",
       "129        1.0  0.0                   0  \n",
       "130        1.0  0.0                   1  "
      ]
     },
     "execution_count": 19,
     "metadata": {},
     "output_type": "execute_result"
    }
   ],
   "source": [
    "Lgoti_Abiturients = Lgoti_Abiturients.drop(['ФИЗИКА(ДВИ)', 'Сумма баллов', 'ФИЗИКА(ЕГЭ)',\n",
    "                                            'МАТЕМАТИКА(ЕГЭ)', 'РУССКИЙ ЯЗЫК(ЕГЭ)'], axis = 1)\n",
    "Lgoti_Abiturients.head()"
   ]
  },
  {
   "cell_type": "markdown",
   "id": "3e6418ca",
   "metadata": {},
   "source": [
    "## 3) Анализ данных"
   ]
  },
  {
   "cell_type": "code",
   "execution_count": 20,
   "id": "bb8b52e8",
   "metadata": {},
   "outputs": [
    {
     "name": "stdout",
     "output_type": "stream",
     "text": [
      "Количество абитуриентов = 343\n",
      "Количество абитуриентов с льготами = 218\n",
      "Количество абитуриентов с баллами ЕГЭ = 125\n"
     ]
    }
   ],
   "source": [
    "print('Количество абитуриентов = ' + str(len(Abiturients)))\n",
    "print('Количество абитуриентов с льготами = ' + str(len(Lgoti_Abiturients)))\n",
    "print('Количество абитуриентов с баллами ЕГЭ = ' + str(len(EGE_Abiturients)))"
   ]
  },
  {
   "cell_type": "markdown",
   "id": "848fe32e",
   "metadata": {},
   "source": [
    "Сопоставим таблицу абитуриентов с таблицей с баллами за три сессии чтобы узнать, кто лучше учится Егэшники или Льготники:"
   ]
  },
  {
   "cell_type": "code",
   "execution_count": 21,
   "id": "e5b97a75",
   "metadata": {},
   "outputs": [],
   "source": [
    "Lgoti_df = Lgoti_Abiturients.merge(Ball)\n",
    "EGE_df = EGE_Abiturients.merge(Ball)"
   ]
  },
  {
   "cell_type": "code",
   "execution_count": 22,
   "id": "0cdfa507",
   "metadata": {},
   "outputs": [
    {
     "name": "stdout",
     "output_type": "stream",
     "text": [
      "(191, 7)\n",
      "(109, 10)\n"
     ]
    }
   ],
   "source": [
    "print(Lgoti_df.shape)\n",
    "print(EGE_df.shape)"
   ]
  },
  {
   "cell_type": "markdown",
   "id": "5a06c765",
   "metadata": {},
   "source": [
    "После совмещения таблиц абитуриентов и студентов, размеры таблиц уменьшились на количество исключенных/ушедших в академический отпуск/переведенных в другой вуз людей. Посчитаем количество отстраненных от учебы студентов:"
   ]
  },
  {
   "cell_type": "code",
   "execution_count": 23,
   "id": "156c7b2d",
   "metadata": {},
   "outputs": [
    {
     "name": "stdout",
     "output_type": "stream",
     "text": [
      "Количество людей, поступавших по льготам, отсраненных от учебы = 27\n",
      "Количество людей, поступавших по ЕГЭ, отсраненных от учебы = 16\n",
      "Количество людей, поступавших по льготам, отсраненных от учебы в процентах = 0.14136125654450263\n",
      "Количество людей, поступавших по ЕГЭ, отсраненных от учебы в процентах = 0.14678899082568808\n"
     ]
    }
   ],
   "source": [
    "print('Количество людей, поступавших по льготам, отсраненных от учебы = ' + str(len(Lgoti_Abiturients) - Lgoti_df.shape[0]))\n",
    "print('Количество людей, поступавших по ЕГЭ, отсраненных от учебы = ' + str(len(EGE_Abiturients) - EGE_df.shape[0]))\n",
    "\n",
    "print('Количество людей, поступавших по льготам, отсраненных от учебы в процентах = ' + str((len(Lgoti_Abiturients) - Lgoti_df.shape[0]) / Lgoti_df.shape[0]))\n",
    "print('Количество людей, поступавших по ЕГЭ, отсраненных от учебы в процентах = ' + str((len(EGE_Abiturients) - EGE_df.shape[0]) / EGE_df.shape[0]))"
   ]
  },
  {
   "cell_type": "markdown",
   "id": "0498f1d3",
   "metadata": {},
   "source": [
    "Как оказалось, количество отстраненных студентов, несильно зависит от способа поступления в ВУЗ."
   ]
  },
  {
   "cell_type": "markdown",
   "id": "c2fb48e3",
   "metadata": {},
   "source": [
    "Проанализируем Льготников и Егэшников с помощью describe():"
   ]
  },
  {
   "cell_type": "code",
   "execution_count": 24,
   "id": "44e8c7b8",
   "metadata": {},
   "outputs": [
    {
     "data": {
      "text/html": [
       "<div>\n",
       "<style scoped>\n",
       "    .dataframe tbody tr th:only-of-type {\n",
       "        vertical-align: middle;\n",
       "    }\n",
       "\n",
       "    .dataframe tbody tr th {\n",
       "        vertical-align: top;\n",
       "    }\n",
       "\n",
       "    .dataframe thead th {\n",
       "        text-align: right;\n",
       "    }\n",
       "</style>\n",
       "<table border=\"1\" class=\"dataframe\">\n",
       "  <thead>\n",
       "    <tr style=\"text-align: right;\">\n",
       "      <th></th>\n",
       "      <th>Аттестат с отличием</th>\n",
       "      <th>Сочинение</th>\n",
       "      <th>ГТО</th>\n",
       "      <th>Право на общежитие</th>\n",
       "      <th>Балл</th>\n",
       "    </tr>\n",
       "  </thead>\n",
       "  <tbody>\n",
       "    <tr>\n",
       "      <th>count</th>\n",
       "      <td>191.000000</td>\n",
       "      <td>191.0</td>\n",
       "      <td>191.000000</td>\n",
       "      <td>191.000000</td>\n",
       "      <td>191.000000</td>\n",
       "    </tr>\n",
       "    <tr>\n",
       "      <th>mean</th>\n",
       "      <td>0.376963</td>\n",
       "      <td>1.0</td>\n",
       "      <td>0.183246</td>\n",
       "      <td>0.670157</td>\n",
       "      <td>75.758742</td>\n",
       "    </tr>\n",
       "    <tr>\n",
       "      <th>std</th>\n",
       "      <td>0.485899</td>\n",
       "      <td>0.0</td>\n",
       "      <td>0.387885</td>\n",
       "      <td>0.471392</td>\n",
       "      <td>7.806466</td>\n",
       "    </tr>\n",
       "    <tr>\n",
       "      <th>min</th>\n",
       "      <td>0.000000</td>\n",
       "      <td>1.0</td>\n",
       "      <td>0.000000</td>\n",
       "      <td>0.000000</td>\n",
       "      <td>43.562500</td>\n",
       "    </tr>\n",
       "    <tr>\n",
       "      <th>25%</th>\n",
       "      <td>0.000000</td>\n",
       "      <td>1.0</td>\n",
       "      <td>0.000000</td>\n",
       "      <td>0.000000</td>\n",
       "      <td>72.000000</td>\n",
       "    </tr>\n",
       "    <tr>\n",
       "      <th>50%</th>\n",
       "      <td>0.000000</td>\n",
       "      <td>1.0</td>\n",
       "      <td>0.000000</td>\n",
       "      <td>1.000000</td>\n",
       "      <td>78.000000</td>\n",
       "    </tr>\n",
       "    <tr>\n",
       "      <th>75%</th>\n",
       "      <td>1.000000</td>\n",
       "      <td>1.0</td>\n",
       "      <td>0.000000</td>\n",
       "      <td>1.000000</td>\n",
       "      <td>81.178571</td>\n",
       "    </tr>\n",
       "    <tr>\n",
       "      <th>max</th>\n",
       "      <td>1.000000</td>\n",
       "      <td>1.0</td>\n",
       "      <td>1.000000</td>\n",
       "      <td>1.000000</td>\n",
       "      <td>85.000000</td>\n",
       "    </tr>\n",
       "  </tbody>\n",
       "</table>\n",
       "</div>"
      ],
      "text/plain": [
       "       Аттестат с отличием  Сочинение         ГТО  Право на общежитие  \\\n",
       "count           191.000000      191.0  191.000000          191.000000   \n",
       "mean              0.376963        1.0    0.183246            0.670157   \n",
       "std               0.485899        0.0    0.387885            0.471392   \n",
       "min               0.000000        1.0    0.000000            0.000000   \n",
       "25%               0.000000        1.0    0.000000            0.000000   \n",
       "50%               0.000000        1.0    0.000000            1.000000   \n",
       "75%               1.000000        1.0    0.000000            1.000000   \n",
       "max               1.000000        1.0    1.000000            1.000000   \n",
       "\n",
       "             Балл  \n",
       "count  191.000000  \n",
       "mean    75.758742  \n",
       "std      7.806466  \n",
       "min     43.562500  \n",
       "25%     72.000000  \n",
       "50%     78.000000  \n",
       "75%     81.178571  \n",
       "max     85.000000  "
      ]
     },
     "execution_count": 24,
     "metadata": {},
     "output_type": "execute_result"
    }
   ],
   "source": [
    "Lgoti_df.describe()"
   ]
  },
  {
   "cell_type": "code",
   "execution_count": 25,
   "id": "938013e9",
   "metadata": {
    "scrolled": false
   },
   "outputs": [
    {
     "data": {
      "text/html": [
       "<div>\n",
       "<style scoped>\n",
       "    .dataframe tbody tr th:only-of-type {\n",
       "        vertical-align: middle;\n",
       "    }\n",
       "\n",
       "    .dataframe tbody tr th {\n",
       "        vertical-align: top;\n",
       "    }\n",
       "\n",
       "    .dataframe thead th {\n",
       "        text-align: right;\n",
       "    }\n",
       "</style>\n",
       "<table border=\"1\" class=\"dataframe\">\n",
       "  <thead>\n",
       "    <tr style=\"text-align: right;\">\n",
       "      <th></th>\n",
       "      <th>ФИЗИКА(ДВИ)</th>\n",
       "      <th>ФИЗИКА(ЕГЭ)</th>\n",
       "      <th>МАТЕМАТИКА(ЕГЭ)</th>\n",
       "      <th>РУССКИЙ ЯЗЫК(ЕГЭ)</th>\n",
       "      <th>Аттестат с отличием</th>\n",
       "      <th>Сочинение</th>\n",
       "      <th>ГТО</th>\n",
       "      <th>Право на общежитие</th>\n",
       "      <th>Балл</th>\n",
       "    </tr>\n",
       "  </thead>\n",
       "  <tbody>\n",
       "    <tr>\n",
       "      <th>count</th>\n",
       "      <td>109.000000</td>\n",
       "      <td>109.000000</td>\n",
       "      <td>109.000000</td>\n",
       "      <td>109.000000</td>\n",
       "      <td>109.000000</td>\n",
       "      <td>109.000000</td>\n",
       "      <td>109.000000</td>\n",
       "      <td>109.000000</td>\n",
       "      <td>109.000000</td>\n",
       "    </tr>\n",
       "    <tr>\n",
       "      <th>mean</th>\n",
       "      <td>86.880734</td>\n",
       "      <td>92.706422</td>\n",
       "      <td>88.678899</td>\n",
       "      <td>92.055046</td>\n",
       "      <td>0.541284</td>\n",
       "      <td>0.981651</td>\n",
       "      <td>0.183486</td>\n",
       "      <td>0.596330</td>\n",
       "      <td>73.246068</td>\n",
       "    </tr>\n",
       "    <tr>\n",
       "      <th>std</th>\n",
       "      <td>11.062721</td>\n",
       "      <td>6.173874</td>\n",
       "      <td>6.382674</td>\n",
       "      <td>5.857624</td>\n",
       "      <td>0.500594</td>\n",
       "      <td>0.134829</td>\n",
       "      <td>0.388852</td>\n",
       "      <td>0.492899</td>\n",
       "      <td>8.820134</td>\n",
       "    </tr>\n",
       "    <tr>\n",
       "      <th>min</th>\n",
       "      <td>39.000000</td>\n",
       "      <td>64.000000</td>\n",
       "      <td>74.000000</td>\n",
       "      <td>73.000000</td>\n",
       "      <td>0.000000</td>\n",
       "      <td>0.000000</td>\n",
       "      <td>0.000000</td>\n",
       "      <td>0.000000</td>\n",
       "      <td>45.000000</td>\n",
       "    </tr>\n",
       "    <tr>\n",
       "      <th>25%</th>\n",
       "      <td>80.000000</td>\n",
       "      <td>91.000000</td>\n",
       "      <td>84.000000</td>\n",
       "      <td>89.000000</td>\n",
       "      <td>0.000000</td>\n",
       "      <td>1.000000</td>\n",
       "      <td>0.000000</td>\n",
       "      <td>0.000000</td>\n",
       "      <td>69.000000</td>\n",
       "    </tr>\n",
       "    <tr>\n",
       "      <th>50%</th>\n",
       "      <td>87.000000</td>\n",
       "      <td>93.000000</td>\n",
       "      <td>88.000000</td>\n",
       "      <td>94.000000</td>\n",
       "      <td>1.000000</td>\n",
       "      <td>1.000000</td>\n",
       "      <td>0.000000</td>\n",
       "      <td>1.000000</td>\n",
       "      <td>74.000000</td>\n",
       "    </tr>\n",
       "    <tr>\n",
       "      <th>75%</th>\n",
       "      <td>97.000000</td>\n",
       "      <td>97.000000</td>\n",
       "      <td>94.000000</td>\n",
       "      <td>96.000000</td>\n",
       "      <td>1.000000</td>\n",
       "      <td>1.000000</td>\n",
       "      <td>0.000000</td>\n",
       "      <td>1.000000</td>\n",
       "      <td>80.000000</td>\n",
       "    </tr>\n",
       "    <tr>\n",
       "      <th>max</th>\n",
       "      <td>100.000000</td>\n",
       "      <td>100.000000</td>\n",
       "      <td>100.000000</td>\n",
       "      <td>100.000000</td>\n",
       "      <td>1.000000</td>\n",
       "      <td>1.000000</td>\n",
       "      <td>1.000000</td>\n",
       "      <td>1.000000</td>\n",
       "      <td>85.000000</td>\n",
       "    </tr>\n",
       "  </tbody>\n",
       "</table>\n",
       "</div>"
      ],
      "text/plain": [
       "       ФИЗИКА(ДВИ)  ФИЗИКА(ЕГЭ)  МАТЕМАТИКА(ЕГЭ)  РУССКИЙ ЯЗЫК(ЕГЭ)  \\\n",
       "count   109.000000   109.000000       109.000000         109.000000   \n",
       "mean     86.880734    92.706422        88.678899          92.055046   \n",
       "std      11.062721     6.173874         6.382674           5.857624   \n",
       "min      39.000000    64.000000        74.000000          73.000000   \n",
       "25%      80.000000    91.000000        84.000000          89.000000   \n",
       "50%      87.000000    93.000000        88.000000          94.000000   \n",
       "75%      97.000000    97.000000        94.000000          96.000000   \n",
       "max     100.000000   100.000000       100.000000         100.000000   \n",
       "\n",
       "       Аттестат с отличием   Сочинение         ГТО  Право на общежитие  \\\n",
       "count           109.000000  109.000000  109.000000          109.000000   \n",
       "mean              0.541284    0.981651    0.183486            0.596330   \n",
       "std               0.500594    0.134829    0.388852            0.492899   \n",
       "min               0.000000    0.000000    0.000000            0.000000   \n",
       "25%               0.000000    1.000000    0.000000            0.000000   \n",
       "50%               1.000000    1.000000    0.000000            1.000000   \n",
       "75%               1.000000    1.000000    0.000000            1.000000   \n",
       "max               1.000000    1.000000    1.000000            1.000000   \n",
       "\n",
       "             Балл  \n",
       "count  109.000000  \n",
       "mean    73.246068  \n",
       "std      8.820134  \n",
       "min     45.000000  \n",
       "25%     69.000000  \n",
       "50%     74.000000  \n",
       "75%     80.000000  \n",
       "max     85.000000  "
      ]
     },
     "execution_count": 25,
     "metadata": {},
     "output_type": "execute_result"
    }
   ],
   "source": [
    "EGE_df.describe()"
   ]
  },
  {
   "cell_type": "markdown",
   "id": "ac20d318",
   "metadata": {},
   "source": [
    "- Средний балл Льготников (75.758742) немного больше, чем у Егэшников (73.246068)\n",
    "- У Егэшников количество аттестатов с отличием (0.541284), в среднем, значительно больше, чем у Льготников (0.376963)\n",
    "- Льготникам общежитие требуется чаще (0.670157), чем Егэшникам (0.596330)"
   ]
  },
  {
   "cell_type": "markdown",
   "id": "a61fc474",
   "metadata": {},
   "source": [
    "Построим гистограмму баллов Егэшников и Льготников:"
   ]
  },
  {
   "cell_type": "code",
   "execution_count": 26,
   "id": "55637734",
   "metadata": {},
   "outputs": [
    {
     "data": {
      "text/plain": [
       "Text(0.5, 1.0, 'Гистограмма количества Льготников и Егэшников \\n в зависимости от среднего балла за три сессии')"
      ]
     },
     "execution_count": 26,
     "metadata": {},
     "output_type": "execute_result"
    },
    {
     "data": {
      "image/png": "[encoded data removed]",
      "text/plain": [
       "<Figure size 432x288 with 1 Axes>"
      ]
     },
     "metadata": {
      "needs_background": "light"
     },
     "output_type": "display_data"
    }
   ],
   "source": [
    "Lgoti_df.Балл.hist(bins = 15)\n",
    "EGE_df.Балл.hist(bins = 15, alpha = 0.8)\n",
    "plt.xlim(40, 85)\n",
    "\n",
    "plt.legend(['Льготники', 'Егэшники'])\n",
    "plt.xlabel('Баллы')\n",
    "plt.ylabel('Количество студентов')\n",
    "plt.title('Гистограмма количества Льготников и Егэшников \\n в зависимости от среднего балла за три сессии')"
   ]
  },
  {
   "cell_type": "markdown",
   "id": "6b4b80b1",
   "metadata": {},
   "source": [
    "Нормируем данные, чтобы стало проще сравнивать:"
   ]
  },
  {
   "cell_type": "code",
   "execution_count": 27,
   "id": "86742159",
   "metadata": {},
   "outputs": [
    {
     "data": {
      "text/plain": [
       "Text(0.5, 1.0, 'Нормированная гистограмма количества Льготников и Егэшников \\n в зависимости от среднего балла за три сессии')"
      ]
     },
     "execution_count": 27,
     "metadata": {},
     "output_type": "execute_result"
    },
    {
     "data": {
      "image/png": "[encoded data removed]",
      "text/plain": [
       "<Figure size 432x288 with 1 Axes>"
      ]
     },
     "metadata": {
      "needs_background": "light"
     },
     "output_type": "display_data"
    }
   ],
   "source": [
    "Lgoti_df.Балл.hist(bins = 15, density = True)\n",
    "EGE_df.Балл.hist(bins = 15, alpha = 0.75, density = True)\n",
    "plt.xlim(40, 85)\n",
    "\n",
    "plt.legend(['Льготники', 'Егэшники'])\n",
    "plt.xlabel('Баллы')\n",
    "plt.ylabel('Количество студентов')\n",
    "plt.title('Нормированная гистограмма количества Льготников и Егэшников \\n в зависимости от среднего балла за три сессии')"
   ]
  },
  {
   "cell_type": "markdown",
   "id": "81e0ea74",
   "metadata": {},
   "source": [
    "Выводы из гистограммы:\n",
    "- Количество Егэшников с баллом < 60 значительно больше, чем Льготников\n",
    "- Льготников с баллами > 75 значительно больше, чем Егэшников"
   ]
  },
  {
   "cell_type": "markdown",
   "id": "ee59c67c",
   "metadata": {},
   "source": [
    "Построим еще один график:"
   ]
  },
  {
   "cell_type": "code",
   "execution_count": 28,
   "id": "27a22758",
   "metadata": {},
   "outputs": [
    {
     "data": {
      "image/png": "[encoded data removed]",
      "text/plain": [
       "<Figure size 720x720 with 25 Axes>"
      ]
     },
     "metadata": {
      "needs_background": "light"
     },
     "output_type": "display_data"
    }
   ],
   "source": [
    "a = pd.plotting.scatter_matrix(EGE_df[['ФИЗИКА(ДВИ)', 'ФИЗИКА(ЕГЭ)', 'МАТЕМАТИКА(ЕГЭ)', 'РУССКИЙ ЯЗЫК(ЕГЭ)', 'Балл']],\n",
    "                               figsize=(10, 10))"
   ]
  },
  {
   "cell_type": "markdown",
   "id": "1c7cc9bc",
   "metadata": {},
   "source": [
    "Нас интересует нижняя строка: зависимость Балла от баллов за различные предметы ЕГЭ, т.к. далее мы будем обучать модель, которая как раз будет предсказывать Балл по баллам ЕГЭ (и еще нескольким параметрам)."
   ]
  },
  {
   "cell_type": "markdown",
   "id": "7974bd4b",
   "metadata": {},
   "source": [
    "## 4) Выбор лучшей модели"
   ]
  },
  {
   "cell_type": "code",
   "execution_count": 29,
   "id": "059fec88",
   "metadata": {},
   "outputs": [],
   "source": [
    "# Выделяем массив объектов\n",
    "X = np.array(EGE_df[['ФИЗИКА(ДВИ)', 'ФИЗИКА(ЕГЭ)', 'МАТЕМАТИКА(ЕГЭ)', 'РУССКИЙ ЯЗЫК(ЕГЭ)','Аттестат с отличием',\n",
    "                'Сочинение', 'ГТО', 'Право на общежитие']])\n",
    "\n",
    "# Выделяем массив ответов\n",
    "y = np.array(EGE_df['Балл'])\n",
    "\n",
    "# Делим данные на тренировочную и тестовую выборки\n",
    "X_train, X_test, y_train, y_test = train_test_split(X, y, random_state=5)"
   ]
  },
  {
   "cell_type": "markdown",
   "id": "5ab96882",
   "metadata": {},
   "source": [
    "- Регрессия k ближайших соседей\n",
    "- Линейная регрессия\n",
    "- Гребневая регрессия\n",
    "- Лассо регрессия\n",
    "- Ансамбль деревьев регрессии\n",
    "- Градиентный бустинг деревьев регрессии\n",
    "- Нейронные сети"
   ]
  },
  {
   "cell_type": "code",
   "execution_count": 30,
   "id": "5b53ee8b",
   "metadata": {},
   "outputs": [
    {
     "name": "stdout",
     "output_type": "stream",
     "text": [
      "Правильность на обучающем наборе: 0.26\n",
      "Правильность на тестовом наборе: -0.37\n"
     ]
    }
   ],
   "source": [
    "# Регрессия k ближайших соседей\n",
    "\n",
    "knr = KNeighborsRegressor(n_neighbors=4).fit(X_train, y_train)\n",
    "print(\"Правильность на обучающем наборе: {:.2f}\".format(knr.score(X_train, y_train)))\n",
    "print(\"Правильность на тестовом наборе: {:.2f}\".format(knr.score(X_test, y_test)))"
   ]
  },
  {
   "cell_type": "code",
   "execution_count": 31,
   "id": "db3d96ea",
   "metadata": {},
   "outputs": [
    {
     "name": "stdout",
     "output_type": "stream",
     "text": [
      "Правильность на обучающем наборе: 0.08\n",
      "Правильность на тестовом наборе: 0.07\n"
     ]
    }
   ],
   "source": [
    "# Линейная регрессия\n",
    "\n",
    "lr = LinearRegression().fit(X_train, y_train)\n",
    "print(\"Правильность на обучающем наборе: {:.2f}\".format(lr.score(X_train, y_train)))\n",
    "print(\"Правильность на тестовом наборе: {:.2f}\".format(lr.score(X_test, y_test)))"
   ]
  },
  {
   "cell_type": "code",
   "execution_count": 32,
   "id": "2520ebf7",
   "metadata": {},
   "outputs": [
    {
     "name": "stdout",
     "output_type": "stream",
     "text": [
      "Правильность на обучающем наборе: 0.08\n",
      "Правильность на тестовом наборе: 0.07\n"
     ]
    }
   ],
   "source": [
    "# Гребневая регрессия\n",
    "\n",
    "ridge = Ridge(alpha=0.0001).fit(X_train, y_train)\n",
    "print(\"Правильность на обучающем наборе: {:.2f}\".format(ridge.score(X_train, y_train)))\n",
    "print(\"Правильность на тестовом наборе: {:.2f}\".format(ridge.score(X_test, y_test)))"
   ]
  },
  {
   "cell_type": "code",
   "execution_count": 33,
   "id": "edad13a8",
   "metadata": {},
   "outputs": [
    {
     "name": "stdout",
     "output_type": "stream",
     "text": [
      "Правильность на обучающем наборе: 0.08\n",
      "Правильность на тестовом наборе: 0.07\n"
     ]
    }
   ],
   "source": [
    "# Лассо регрессия\n",
    "\n",
    "lasso001 = Lasso(alpha=0.0001, max_iter=100000).fit(X_train, y_train)\n",
    "print(\"Правильность на обучающем наборе: {:.2f}\".format(lasso001.score(X_train, y_train)))\n",
    "print(\"Правильность на тестовом наборе: {:.2f}\".format(lasso001.score(X_test, y_test)))"
   ]
  },
  {
   "cell_type": "code",
   "execution_count": 34,
   "id": "caa61224",
   "metadata": {},
   "outputs": [
    {
     "name": "stdout",
     "output_type": "stream",
     "text": [
      "Правильность на обучающем наборе: 0.461\n",
      "Правильность на тестовом наборе: -0.299\n"
     ]
    }
   ],
   "source": [
    "# Ансамбль деревьев регрессии\n",
    "\n",
    "forest = RandomForestRegressor(n_estimators=1000, random_state=0, max_depth=3)\n",
    "forest.fit(X_train, y_train)\n",
    "\n",
    "print(\"Правильность на обучающем наборе: {:.3f}\".format(forest.score(X_train, y_train)))\n",
    "print(\"Правильность на тестовом наборе: {:.3f}\".format(forest.score(X_test, y_test)))"
   ]
  },
  {
   "cell_type": "code",
   "execution_count": 35,
   "id": "39bf7001",
   "metadata": {},
   "outputs": [
    {
     "name": "stdout",
     "output_type": "stream",
     "text": [
      "Правильность на обучающем наборе: 0.940\n",
      "Правильность на тестовом наборе: -1.002\n"
     ]
    }
   ],
   "source": [
    "# Градиентный бустинг деревьев регрессии\n",
    "\n",
    "GBC = GradientBoostingRegressor(random_state=0)\n",
    "GBC.fit(X_train, y_train)\n",
    "\n",
    "print(\"Правильность на обучающем наборе: {:.3f}\".format(GBC.score(X_train, y_train)))\n",
    "print(\"Правильность на тестовом наборе: {:.3f}\".format(GBC.score(X_test, y_test)))"
   ]
  },
  {
   "cell_type": "code",
   "execution_count": 36,
   "id": "0874973a",
   "metadata": {
    "scrolled": true
   },
   "outputs": [
    {
     "name": "stdout",
     "output_type": "stream",
     "text": [
      "Правильность на обучающем наборе: 0.987\n",
      "Правильность на тестовом наборе: -3.443\n"
     ]
    }
   ],
   "source": [
    "# Нейронные сети\n",
    "\n",
    "# Нормируем\n",
    "scaler = StandardScaler()\n",
    "scaler.fit(X_train)\n",
    "X_train_scaled = scaler.transform(X_train)\n",
    "X_test_scaled = scaler.transform(X_test)\n",
    "\n",
    "Neyr = MLPRegressor(random_state=0, max_iter=100000, \n",
    "                    hidden_layer_sizes = [20])\n",
    "Neyr.fit(X_train_scaled, y_train)\n",
    "\n",
    "print(\"Правильность на обучающем наборе: {:.3f}\".format(Neyr.score(X_train_scaled, y_train)))\n",
    "print(\"Правильность на тестовом наборе: {:.3f}\".format(Neyr.score(X_test_scaled, y_test)))"
   ]
  },
  {
   "cell_type": "code",
   "execution_count": 37,
   "id": "2d291d6b",
   "metadata": {},
   "outputs": [
    {
     "data": {
      "text/html": [
       "<div>\n",
       "<style scoped>\n",
       "    .dataframe tbody tr th:only-of-type {\n",
       "        vertical-align: middle;\n",
       "    }\n",
       "\n",
       "    .dataframe tbody tr th {\n",
       "        vertical-align: top;\n",
       "    }\n",
       "\n",
       "    .dataframe thead th {\n",
       "        text-align: right;\n",
       "    }\n",
       "</style>\n",
       "<table border=\"1\" class=\"dataframe\">\n",
       "  <thead>\n",
       "    <tr style=\"text-align: right;\">\n",
       "      <th></th>\n",
       "      <th>Model</th>\n",
       "      <th>Score</th>\n",
       "    </tr>\n",
       "  </thead>\n",
       "  <tbody>\n",
       "    <tr>\n",
       "      <th>3</th>\n",
       "      <td>Лассо регрессия</td>\n",
       "      <td>0.072664</td>\n",
       "    </tr>\n",
       "    <tr>\n",
       "      <th>2</th>\n",
       "      <td>Гребневая регрессия</td>\n",
       "      <td>0.072660</td>\n",
       "    </tr>\n",
       "    <tr>\n",
       "      <th>1</th>\n",
       "      <td>Линейная регрессия</td>\n",
       "      <td>0.072660</td>\n",
       "    </tr>\n",
       "    <tr>\n",
       "      <th>4</th>\n",
       "      <td>Ансамбль деревьев регрессии</td>\n",
       "      <td>-0.298640</td>\n",
       "    </tr>\n",
       "    <tr>\n",
       "      <th>0</th>\n",
       "      <td>Регрессия k ближайших соседей</td>\n",
       "      <td>-0.374298</td>\n",
       "    </tr>\n",
       "    <tr>\n",
       "      <th>5</th>\n",
       "      <td>Градиентный бустинг деревьев регрессии</td>\n",
       "      <td>-1.001772</td>\n",
       "    </tr>\n",
       "    <tr>\n",
       "      <th>6</th>\n",
       "      <td>Нейронные сети</td>\n",
       "      <td>-3.443057</td>\n",
       "    </tr>\n",
       "  </tbody>\n",
       "</table>\n",
       "</div>"
      ],
      "text/plain": [
       "                                    Model     Score\n",
       "3                         Лассо регрессия  0.072664\n",
       "2                     Гребневая регрессия  0.072660\n",
       "1                      Линейная регрессия  0.072660\n",
       "4             Ансамбль деревьев регрессии -0.298640\n",
       "0           Регрессия k ближайших соседей -0.374298\n",
       "5  Градиентный бустинг деревьев регрессии -1.001772\n",
       "6                          Нейронные сети -3.443057"
      ]
     },
     "execution_count": 37,
     "metadata": {},
     "output_type": "execute_result"
    }
   ],
   "source": [
    "# Сортируем правильность моделей\n",
    "\n",
    "models = pd.DataFrame({\n",
    "    'Model': ['Регрессия k ближайших соседей','Линейная регрессия', 'Гребневая регрессия', 'Лассо регрессия', \n",
    "             'Ансамбль деревьев регрессии', 'Градиентный бустинг деревьев регрессии', 'Нейронные сети'],\n",
    "    'Score': [knr.score(X_test, y_test), lr.score(X_test, y_test), ridge.score(X_test, y_test),\n",
    "              lasso001.score(X_test, y_test), forest.score(X_test, y_test), GBC.score(X_test, y_test),\n",
    "              Neyr.score(X_test_scaled, y_test)]})\n",
    "models.sort_values(by='Score', ascending=False)"
   ]
  },
  {
   "cell_type": "markdown",
   "id": "099ad71d",
   "metadata": {},
   "source": [
    "Линейные модели показывают лучший результат. Рассмотрим Лассо регрессию подробнее:"
   ]
  },
  {
   "cell_type": "code",
   "execution_count": 38,
   "id": "1fde5ce5",
   "metadata": {
    "scrolled": true
   },
   "outputs": [
    {
     "name": "stdout",
     "output_type": "stream",
     "text": [
      "Количество использованных признаков: 8\n",
      "\n",
      "Вес ФИЗИКА(ДВИ) = 0.1099923807928719\n",
      "Вес ФИЗИКА(ЕГЭ) = 0.13179194340573833\n",
      "Вес МАТЕМАТИКА(ЕГЭ) = 0.22212521153517906\n",
      "Вес РУССКИЙ ЯЗЫК(ЕГЭ) = 0.18571339153869923\n",
      "Вес Аттестат с отличием = 1.599147689291475\n",
      "Вес Сочинение = 0.727689149175886\n",
      "Вес ГТО = 0.37710040502822795\n",
      "Вес Право на общежитие = -0.10957389013570505\n"
     ]
    }
   ],
   "source": [
    "# Посмотрим на коэффициенты:\n",
    "print(\"Количество использованных признаков: {}\".format(np.sum(lasso001.coef_ != 0)))\n",
    "print()\n",
    "\n",
    "for i, j in zip(EGE_df.columns[1:9], lasso001.coef_):\n",
    "    print('Вес ' + str(i) + ' = ' + str(j))\n",
    "# забавно что физика и дви по физике меньше всего влияют на то,\n",
    "# какой будет средний балл"
   ]
  },
  {
   "cell_type": "markdown",
   "id": "75724b18",
   "metadata": {},
   "source": [
    "- Вес ФИЗИКА(ДВИ) и Вес ФИЗИКА(ЕГЭ) имеют наименьшие значения среди всех предметов (хотя факультет ФИЗИЧЕСКИЙ)\n",
    "- Вес Аттестат с отличием имеет очень высокое значение относительно других бинарных параметров\n",
    "- Право на общежитие единственный отрицательный параметр"
   ]
  },
  {
   "cell_type": "markdown",
   "id": "19b876cd",
   "metadata": {},
   "source": [
    "Предсказание среднего балла за 3 сессии:"
   ]
  },
  {
   "cell_type": "code",
   "execution_count": 39,
   "id": "cb3faa84",
   "metadata": {},
   "outputs": [
    {
     "name": "stdout",
     "output_type": "stream",
     "text": [
      "Ваш балл ЕГЭ: 366\n",
      "Ваш средний балл: [71.5292374]\n",
      "4.207602200242318\n"
     ]
    }
   ],
   "source": [
    "# Прогноз на одного конкретного человека (MAX = 85)\n",
    "\n",
    "# ВВЕДИТЕ ВАШИ ДАННЫЕ\n",
    "# [0, 100]\n",
    "FIZIKA_DVI = 100\n",
    "FIZIKA_EGE = 97\n",
    "MATEMATIKA_EGE = 74\n",
    "RUSSKIY_YAZIK_EGE = 91\n",
    "\n",
    "# 1 или 0\n",
    "ATTESTAT_S_OTLICHIEM = 0\n",
    "SOCHINENIE = 1\n",
    "GTO = 1\n",
    "OBSCHAGA = 0\n",
    "\n",
    "Otvet = lasso001.predict([[FIZIKA_DVI, FIZIKA_EGE, MATEMATIKA_EGE, RUSSKIY_YAZIK_EGE,\n",
    "                                                      ATTESTAT_S_OTLICHIEM, SOCHINENIE, GTO, OBSCHAGA]])\n",
    "\n",
    "print('Ваш балл ЕГЭ:', sum([FIZIKA_DVI, FIZIKA_EGE, MATEMATIKA_EGE, RUSSKIY_YAZIK_EGE,\n",
    "                            ATTESTAT_S_OTLICHIEM * 6, SOCHINENIE * 2, GTO * 2]))\n",
    "print(\"Ваш средний балл:\", Otvet)\n",
    "print(float(Otvet/17))"
   ]
  }
 ],
 "metadata": {
  "hide_input": false,
  "kernelspec": {
   "display_name": "Python 3 (ipykernel)",
   "language": "python",
   "name": "python3"
  },
  "language_info": {
   "codemirror_mode": {
    "name": "ipython",
    "version": 3
   },
   "file_extension": ".py",
   "mimetype": "text/x-python",
   "name": "python",
   "nbconvert_exporter": "python",
   "pygments_lexer": "ipython3",
   "version": "3.9.7"
  },
  "toc": {
   "base_numbering": 1,
   "nav_menu": {},
   "number_sections": true,
   "sideBar": true,
   "skip_h1_title": false,
   "title_cell": "Table of Contents",
   "title_sidebar": "Contents",
   "toc_cell": false,
   "toc_position": {},
   "toc_section_display": true,
   "toc_window_display": false
  },
  "varInspector": {
   "cols": {
    "lenName": 16,
    "lenType": 16,
    "lenVar": 40
   },
   "kernels_config": {
    "python": {
     "delete_cmd_postfix": "",
     "delete_cmd_prefix": "del ",
     "library": "var_list.py",
     "varRefreshCmd": "print(var_dic_list())"
    },
    "r": {
     "delete_cmd_postfix": ") ",
     "delete_cmd_prefix": "rm(",
     "library": "var_list.r",
     "varRefreshCmd": "cat(var_dic_list()) "
    }
   },
   "types_to_exclude": [
    "module",
    "function",
    "builtin_function_or_method",
    "instance",
    "_Feature"
   ],
   "window_display": false
  }
 },
 "nbformat": 4,
 "nbformat_minor": 5
}
